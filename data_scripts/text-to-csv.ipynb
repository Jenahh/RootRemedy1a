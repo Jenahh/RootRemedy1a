{
 "cells": [
  {
   "cell_type": "code",
   "execution_count": 14,
   "id": "a1955af2",
   "metadata": {},
   "outputs": [
    {
     "name": "stdout",
     "output_type": "stream",
     "text": [
      "Extraction complete! Check paragraphs.csv and table_*.csv\n"
     ]
    }
   ],
   "source": [
    "from turtle import pd\n",
    "from docx import Document\n",
    "import csv\n",
    "\n",
    "def extract_paragraphs(docx_path):\n",
    "    document = Document(docx_path)\n",
    "    lines = [para.text.strip() for para in document.paragraphs if para.text.strip()]\n",
    "    return lines\n",
    "\n",
    "def extract_tables(docx_path):\n",
    "    document = Document(docx_path)\n",
    "    tables = []\n",
    "    for table in document.tables:\n",
    "        rows = []\n",
    "        for row in table.rows:\n",
    "            rows.append([cell.text.strip() for cell in row.cells])\n",
    "        tables.append(rows)\n",
    "    return tables\n",
    "\n",
    "def save_paragraphs(paragraphs, filename=\"paragraphs.csv\"):\n",
    "    with open(filename, \"w\", newline=\"\", encoding=\"utf-8\") as f:\n",
    "        writer = csv.writer(f)\n",
    "        writer.writerow([\"Paragraph\"])\n",
    "        for p in paragraphs:\n",
    "            writer.writerow([p])\n",
    "\n",
    "def save_tables(tables):\n",
    "    for idx, rows in enumerate(tables):\n",
    "        df = pd.DataFrame(rows)\n",
    "        df.to_csv(f\"table_{idx+1}.csv\", index=False)\n",
    "\n",
    "if __name__ == \"__main__\":\n",
    "    docx_file = \"“Day in the Life” Gut-Healthy Routine.docx\"  \n",
    "\n",
    "    paras = extract_paragraphs(docx_file)\n",
    "    tables = extract_tables(docx_file)\n",
    "\n",
    "    save_paragraphs(paras, \"paragraphs.csv\")\n",
    "    save_tables(tables)\n",
    "\n",
    "    print(\"Extraction complete! Check paragraphs.csv and table_*.csv\")"
   ]
  }
 ],
 "metadata": {
  "kernelspec": {
   "display_name": "Python 3",
   "language": "python",
   "name": "python3"
  },
  "language_info": {
   "codemirror_mode": {
    "name": "ipython",
    "version": 3
   },
   "file_extension": ".py",
   "mimetype": "text/x-python",
   "name": "python",
   "nbconvert_exporter": "python",
   "pygments_lexer": "ipython3",
   "version": "3.13.1"
  }
 },
 "nbformat": 4,
 "nbformat_minor": 5
}
